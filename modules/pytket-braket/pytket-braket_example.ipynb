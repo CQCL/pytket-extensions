{
 "cells": [
  {
   "cell_type": "markdown",
   "id": "86a72741",
   "metadata": {},
   "source": [
    "# Introduction to pytket-braket"
   ]
  },
  {
   "cell_type": "markdown",
   "id": "65ea671c",
   "metadata": {},
   "source": [
    "This ``BraketBackend`` can be used to interface with multiple simulators and quantum processors. "
   ]
  },
  {
   "cell_type": "markdown",
   "id": "e2d730cb",
   "metadata": {},
   "source": [
    "Lets use a simple GHZ circuit to demonsrate some features of the ``BraketBackend``."
   ]
  },
  {
   "cell_type": "code",
   "execution_count": 3,
   "id": "cfdce69a",
   "metadata": {},
   "outputs": [],
   "source": [
    "from pytket import Circuit\n",
    "\n",
    "def build_ghz_circ(n_qubits: int) -> Circuit:\n",
    "    \"\"\"\n",
    "    Returns a circuit that prepares the n qubit GHZ state.\n",
    "    \"\"\"\n",
    "    circ = Circuit(n_qubits)\n",
    "    circ.H(0)\n",
    "    for k in range(1, n_qubits):\n",
    "        circ.CX(k-1, k)\n",
    "    \n",
    "    return circ"
   ]
  },
  {
   "cell_type": "code",
   "execution_count": 4,
   "id": "71f40e53",
   "metadata": {},
   "outputs": [],
   "source": [
    "circ1 = build_ghz_circ(3) # define a 3 qubit GHZ circuit"
   ]
  },
  {
   "cell_type": "markdown",
   "id": "ab6faaf6",
   "metadata": {},
   "source": [
    "The pytket-braket extension offers the ability to convert circuits from a TKET format to a braket format and vice versa.\n",
    "\n",
    "This is done using the ``tk_to_braket`` and ``braket_to_tk`` functions."
   ]
  },
  {
   "cell_type": "code",
   "execution_count": 5,
   "id": "b12d22fc",
   "metadata": {},
   "outputs": [],
   "source": [
    "from pytket.extensions.braket import tk_to_braket, braket_to_tk"
   ]
  },
  {
   "cell_type": "code",
   "execution_count": 6,
   "id": "3bcf576e",
   "metadata": {},
   "outputs": [
    {
     "name": "stdout",
     "output_type": "stream",
     "text": [
      "(Circuit('instructions': [Instruction('operator': I('qubit_count': 1), 'target': QubitSet([Qubit(0)])), Instruction('operator': I('qubit_count': 1), 'target': QubitSet([Qubit(1)])), Instruction('operator': I('qubit_count': 1), 'target': QubitSet([Qubit(2)])), Instruction('operator': H('qubit_count': 1), 'target': QubitSet([Qubit(0)])), Instruction('operator': CNot('qubit_count': 2), 'target': QubitSet([Qubit(0), Qubit(1)])), Instruction('operator': CNot('qubit_count': 2), 'target': QubitSet([Qubit(1), Qubit(2)]))]), {})\n"
     ]
    }
   ],
   "source": [
    "bk_circ = tk_to_braket(circ1) # convert from a TKET circuit to a braket circuit.\n",
    "print(bk_circ)"
   ]
  },
  {
   "cell_type": "code",
   "execution_count": 7,
   "id": "3cf55efa",
   "metadata": {},
   "outputs": [],
   "source": [
    "from pytket.extensions.braket import BraketBackend # import our BraketBackend"
   ]
  },
  {
   "cell_type": "markdown",
   "id": "890bb5f7",
   "metadata": {},
   "source": [
    "## Braket Backend Parameters\n",
    "\n",
    " - **local** – use simulator running on local machine, default: False\n",
    "\n",
    " - **local_device** – name of local device (ignored if local=False) – e.g. “braket_sv” (default) or “braket_dm”.\n",
    "\n",
    " - **device** – device name from device ARN (e.g. “ionQdevice”, “Aspen-8”, …), default: “sv1”\n",
    " \n",
    " - **region** - e.g. 'eu-west-2' (for London), 'us-west-1' (for Northern California)\n",
    "\n",
    " - **s3_bucket** – name of S3 bucket to store results\n",
    "\n",
    " - **s3_folder** – name of folder (“key”) in S3 bucket to store results in\n",
    "\n",
    " - **device_type** – device type from device ARN (e.g. “qpu”), default: “quantum-simulator”\n",
    "\n",
    " - **provider** – provider name from device ARN (e.g. “ionq”, “rigetti”, “oqc”, …), default: “amazon”\n",
    "\n",
    " - **aws_session** – braket AwsSession object, to pass credentials in if not configured on local machine"
   ]
  },
  {
   "cell_type": "markdown",
   "id": "87377171-a8f1-4fd6-b2bf-e4a70b884a1b",
   "metadata": {},
   "source": [
    "\n",
    "\n",
    "\n",
    "If we set ``local=True`` then the only available simulator is the statevector simulator SV1. If used locally this can support a maximum of 26 qubits. If instead we use access this simulator remotely it can support up to 34 qubits."
   ]
  },
  {
   "cell_type": "code",
   "execution_count": 8,
   "id": "51e64cbd-d347-4682-ac94-1b01203ba16f",
   "metadata": {},
   "outputs": [],
   "source": [
    "aws_backend_local = BraketBackend(local=True) #initialise local simulator"
   ]
  },
  {
   "cell_type": "markdown",
   "id": "dabf592c",
   "metadata": {},
   "source": [
    "Lets use a simple GHZ circuit to demonstrate backends available in pytket-braket."
   ]
  },
  {
   "cell_type": "code",
   "execution_count": 9,
   "id": "26b273da-5580-4810-85ff-067fcca80811",
   "metadata": {},
   "outputs": [
    {
     "data": {
      "text/plain": [
       "BackendInfo(name='BraketBackend', device_name='sv1', version='0.19.0', architecture=<tket::Architecture, nodes=26>, gate_set={<OpType.XXPhase: 66>, <OpType.YYPhase: 67>, <OpType.ZZPhase: 68>, <OpType.ISWAPMax: 73>, <OpType.Z: 19>, <OpType.X: 20>, <OpType.Y: 21>, <OpType.S: 22>, <OpType.Sdg: 23>, <OpType.T: 24>, <OpType.Tdg: 25>, <OpType.V: 26>, <OpType.Vdg: 27>, <OpType.H: 30>, <OpType.Rx: 31>, <OpType.Ry: 32>, <OpType.Rz: 33>, <OpType.U1: 36>, <OpType.CX: 39>, <OpType.CY: 40>, <OpType.CZ: 41>, <OpType.CV: 43>, <OpType.CU1: 50>, <OpType.CCX: 53>, <OpType.SWAP: 54>, <OpType.CSWAP: 55>, <OpType.noop: 57>, <OpType.ECR: 61>, <OpType.ISWAP: 62>}, supports_fast_feedforward=False, supports_reset=False, supports_midcircuit_measurement=False, all_node_gate_errors=None, all_edge_gate_errors=None, all_readout_errors=None, averaged_node_gate_errors=None, averaged_edge_gate_errors=None, averaged_readout_errors=None, misc={})"
      ]
     },
     "execution_count": 9,
     "metadata": {},
     "output_type": "execute_result"
    }
   ],
   "source": [
    "aws_backend_local.backend_info # lets look at the device info and supported operations"
   ]
  },
  {
   "cell_type": "markdown",
   "id": "9adeb3bf",
   "metadata": {},
   "source": [
    "Lets now compile our three qubit circuit to a form that can be executed on the local statevector simulator."
   ]
  },
  {
   "cell_type": "code",
   "execution_count": 10,
   "id": "4744309c-590e-4154-8520-b83dbb1dd995",
   "metadata": {},
   "outputs": [],
   "source": [
    "compiled_circ = aws_backend_local.get_compiled_circuit(circ1) \n",
    "handle = aws_backend_local.process_circuit(compiled_circ)\n",
    "result = aws_backend_local.get_result(handle)"
   ]
  },
  {
   "cell_type": "code",
   "execution_count": 11,
   "id": "7d690834-266e-486b-a626-64ee4dd37643",
   "metadata": {},
   "outputs": [
    {
     "data": {
      "text/plain": [
       "BackendResult(q_bits={q[0]: 0, q[1]: 1, q[2]: 2},c_bits={},counts=None,shots=None,state=[1.11022302e-16-0.70710678j 0.00000000e+00+0.j\n",
       " 0.00000000e+00+0.j         0.00000000e+00+0.j\n",
       " 0.00000000e+00+0.j         0.00000000e+00+0.j\n",
       " 0.00000000e+00+0.j         0.00000000e+00-0.70710678j],unitary=None,density_matrix=[[0.5+0.00000000e+00j 0. -0.00000000e+00j 0. -0.00000000e+00j\n",
       "  0. -0.00000000e+00j 0. -0.00000000e+00j 0. -0.00000000e+00j\n",
       "  0. -0.00000000e+00j 0.5+7.85046229e-17j]\n",
       " [0. +0.00000000e+00j 0. +0.00000000e+00j 0. +0.00000000e+00j\n",
       "  0. +0.00000000e+00j 0. +0.00000000e+00j 0. +0.00000000e+00j\n",
       "  0. +0.00000000e+00j 0. +0.00000000e+00j]\n",
       " [0. +0.00000000e+00j 0. +0.00000000e+00j 0. +0.00000000e+00j\n",
       "  0. +0.00000000e+00j 0. +0.00000000e+00j 0. +0.00000000e+00j\n",
       "  0. +0.00000000e+00j 0. +0.00000000e+00j]\n",
       " [0. +0.00000000e+00j 0. +0.00000000e+00j 0. +0.00000000e+00j\n",
       "  0. +0.00000000e+00j 0. +0.00000000e+00j 0. +0.00000000e+00j\n",
       "  0. +0.00000000e+00j 0. +0.00000000e+00j]\n",
       " [0. +0.00000000e+00j 0. +0.00000000e+00j 0. +0.00000000e+00j\n",
       "  0. +0.00000000e+00j 0. +0.00000000e+00j 0. +0.00000000e+00j\n",
       "  0. +0.00000000e+00j 0. +0.00000000e+00j]\n",
       " [0. +0.00000000e+00j 0. +0.00000000e+00j 0. +0.00000000e+00j\n",
       "  0. +0.00000000e+00j 0. +0.00000000e+00j 0. +0.00000000e+00j\n",
       "  0. +0.00000000e+00j 0. +0.00000000e+00j]\n",
       " [0. +0.00000000e+00j 0. +0.00000000e+00j 0. +0.00000000e+00j\n",
       "  0. +0.00000000e+00j 0. +0.00000000e+00j 0. +0.00000000e+00j\n",
       "  0. +0.00000000e+00j 0. +0.00000000e+00j]\n",
       " [0.5-7.85046229e-17j 0. -0.00000000e+00j 0. -0.00000000e+00j\n",
       "  0. -0.00000000e+00j 0. -0.00000000e+00j 0. -0.00000000e+00j\n",
       "  0. -0.00000000e+00j 0.5+0.00000000e+00j]])"
      ]
     },
     "execution_count": 11,
     "metadata": {},
     "output_type": "execute_result"
    }
   ],
   "source": [
    "result # view our entire BackendResult Object - our statevector and density matrix will be calculated"
   ]
  },
  {
   "cell_type": "code",
   "execution_count": 12,
   "id": "4cad0b42-55d2-4d75-b107-74ee8bd11360",
   "metadata": {},
   "outputs": [
    {
     "data": {
      "text/plain": [
       "array([1.11022302e-16-0.70710678j, 0.00000000e+00+0.j        ,\n",
       "       0.00000000e+00+0.j        , 0.00000000e+00+0.j        ,\n",
       "       0.00000000e+00+0.j        , 0.00000000e+00+0.j        ,\n",
       "       0.00000000e+00+0.j        , 0.00000000e+00-0.70710678j])"
      ]
     },
     "execution_count": 12,
     "metadata": {},
     "output_type": "execute_result"
    }
   ],
   "source": [
    "result.get_state() # our statevector - equal to the GHZ state up to a global phase"
   ]
  },
  {
   "cell_type": "markdown",
   "id": "9a886c54-5b82-4c81-92ce-d0eb69ea6fa7",
   "metadata": {},
   "source": [
    "If we add some measurements to our circuit and an ``n_shots`` parameter to ``process_circuit`` then we can get shots based results instead. Our result is obtained by randomly sampling the statevector."
   ]
  },
  {
   "cell_type": "code",
   "execution_count": 13,
   "id": "3e9c6c69-b708-4d74-b296-866bc5323898",
   "metadata": {},
   "outputs": [],
   "source": [
    "compiled_circ.measure_all()\n",
    "handle2 = aws_backend_local.process_circuit(compiled_circ, n_shots=1000)\n",
    "result2 = aws_backend_local.get_result(handle2)"
   ]
  },
  {
   "cell_type": "code",
   "execution_count": 14,
   "id": "5dc3e17e-030b-48a6-932f-2f3f57d9dc40",
   "metadata": {},
   "outputs": [
    {
     "data": {
      "text/plain": [
       "Counter({(0, 0, 0): 493, (1, 1, 1): 507})"
      ]
     },
     "execution_count": 14,
     "metadata": {},
     "output_type": "execute_result"
    }
   ],
   "source": [
    "result2.get_counts()"
   ]
  },
  {
   "cell_type": "markdown",
   "id": "e0338d96",
   "metadata": {},
   "source": [
    "We see that we have a roughly 50:50 distribution of shots in our two basis states as we would expect from measuring the GHZ state."
   ]
  },
  {
   "cell_type": "markdown",
   "id": "e3ec3f2d-2b4a-4fbe-8d8e-0d858830b5ba",
   "metadata": {},
   "source": [
    "Lets now take a look at how to use access remote simulators with ``pytket-braket`` this requires passing additional parameters to the ``BraketBackend`` constructor. We have to specify a region as well as an s3 bucket and folder where our results will be stored.\n",
    "\n",
    "**Note:** The quantum devices that are available to use will depend on the region specified."
   ]
  },
  {
   "cell_type": "code",
   "execution_count": 15,
   "id": "c6c38f77-1813-4edb-bae1-a9d676d7290e",
   "metadata": {},
   "outputs": [],
   "source": [
    "my_region = 'eu-west-2'\n",
    "my_s3_bucket = 'callum-cq-awsbucket' \n",
    "my_s3_folder = 'aws_test/'"
   ]
  },
  {
   "cell_type": "markdown",
   "id": "14396da7",
   "metadata": {},
   "source": [
    "We now read in our AWS credentials namely our access key id and secret access key from an external txt file."
   ]
  },
  {
   "cell_type": "code",
   "execution_count": 16,
   "id": "a9304634",
   "metadata": {},
   "outputs": [],
   "source": [
    "def read_aws_credentials(filename :str):\n",
    "    \"\"\"\n",
    "    Reads in access_key_id and secret_access_key from an external txt file. Returns them as a tuple.\n",
    "    \"\"\"\n",
    "    with open(filename, \"r\") as f:\n",
    "        access_key_id, secret_access_key = (s.strip() for s in f.readlines())\n",
    "        return (access_key_id, secret_access_key)"
   ]
  },
  {
   "cell_type": "code",
   "execution_count": 17,
   "id": "d87c564e",
   "metadata": {},
   "outputs": [
    {
     "ename": "FileNotFoundError",
     "evalue": "[Errno 2] No such file or directory: 'aws_cred.txt'",
     "output_type": "error",
     "traceback": [
      "\u001b[0;31m---------------------------------------------------------------------------\u001b[0m",
      "\u001b[0;31mFileNotFoundError\u001b[0m                         Traceback (most recent call last)",
      "\u001b[0;32m<ipython-input-17-5e352176af84>\u001b[0m in \u001b[0;36m<module>\u001b[0;34m\u001b[0m\n\u001b[1;32m      1\u001b[0m \u001b[0;31m# unpack credentials\u001b[0m\u001b[0;34m\u001b[0m\u001b[0;34m\u001b[0m\u001b[0;34m\u001b[0m\u001b[0m\n\u001b[0;32m----> 2\u001b[0;31m \u001b[0maccess_key_id\u001b[0m\u001b[0;34m,\u001b[0m \u001b[0msecret_access_key\u001b[0m \u001b[0;34m=\u001b[0m \u001b[0mread_aws_credentials\u001b[0m\u001b[0;34m(\u001b[0m\u001b[0;34m'aws_cred.txt'\u001b[0m\u001b[0;34m)\u001b[0m\u001b[0;34m\u001b[0m\u001b[0;34m\u001b[0m\u001b[0m\n\u001b[0m",
      "\u001b[0;32m<ipython-input-16-a71469e3bba0>\u001b[0m in \u001b[0;36mread_aws_credentials\u001b[0;34m(filename)\u001b[0m\n\u001b[1;32m      3\u001b[0m     \u001b[0mReads\u001b[0m \u001b[0;32min\u001b[0m \u001b[0maccess_key_id\u001b[0m \u001b[0;32mand\u001b[0m \u001b[0msecret_access_key\u001b[0m \u001b[0;32mfrom\u001b[0m \u001b[0man\u001b[0m \u001b[0mexternal\u001b[0m \u001b[0mtxt\u001b[0m \u001b[0mfile\u001b[0m\u001b[0;34m.\u001b[0m \u001b[0mReturns\u001b[0m \u001b[0mthem\u001b[0m \u001b[0;32mas\u001b[0m \u001b[0ma\u001b[0m \u001b[0mtuple\u001b[0m\u001b[0;34m.\u001b[0m\u001b[0;34m\u001b[0m\u001b[0;34m\u001b[0m\u001b[0m\n\u001b[1;32m      4\u001b[0m     \"\"\"\n\u001b[0;32m----> 5\u001b[0;31m     \u001b[0;32mwith\u001b[0m \u001b[0mopen\u001b[0m\u001b[0;34m(\u001b[0m\u001b[0mfilename\u001b[0m\u001b[0;34m,\u001b[0m \u001b[0;34m\"r\"\u001b[0m\u001b[0;34m)\u001b[0m \u001b[0;32mas\u001b[0m \u001b[0mf\u001b[0m\u001b[0;34m:\u001b[0m\u001b[0;34m\u001b[0m\u001b[0;34m\u001b[0m\u001b[0m\n\u001b[0m\u001b[1;32m      6\u001b[0m         \u001b[0maccess_key_id\u001b[0m\u001b[0;34m,\u001b[0m \u001b[0msecret_access_key\u001b[0m \u001b[0;34m=\u001b[0m \u001b[0;34m(\u001b[0m\u001b[0ms\u001b[0m\u001b[0;34m.\u001b[0m\u001b[0mstrip\u001b[0m\u001b[0;34m(\u001b[0m\u001b[0;34m)\u001b[0m \u001b[0;32mfor\u001b[0m \u001b[0ms\u001b[0m \u001b[0;32min\u001b[0m \u001b[0mf\u001b[0m\u001b[0;34m.\u001b[0m\u001b[0mreadlines\u001b[0m\u001b[0;34m(\u001b[0m\u001b[0;34m)\u001b[0m\u001b[0;34m)\u001b[0m\u001b[0;34m\u001b[0m\u001b[0;34m\u001b[0m\u001b[0m\n\u001b[1;32m      7\u001b[0m         \u001b[0;32mreturn\u001b[0m \u001b[0;34m(\u001b[0m\u001b[0maccess_key_id\u001b[0m\u001b[0;34m,\u001b[0m \u001b[0msecret_access_key\u001b[0m\u001b[0;34m)\u001b[0m\u001b[0;34m\u001b[0m\u001b[0;34m\u001b[0m\u001b[0m\n",
      "\u001b[0;31mFileNotFoundError\u001b[0m: [Errno 2] No such file or directory: 'aws_cred.txt'"
     ]
    }
   ],
   "source": [
    "# unpack credentials\n",
    "#access_key_id, secret_access_key = read_aws_credentials('aws_cred.txt')"
   ]
  },
  {
   "cell_type": "code",
   "execution_count": 16,
   "id": "db16bb57",
   "metadata": {},
   "outputs": [],
   "source": [
    "# explanation of boto3 and AwsSession to go here."
   ]
  },
  {
   "cell_type": "code",
   "execution_count": 17,
   "id": "a35a853f-4723-4b8a-906e-e3285c9daade",
   "metadata": {},
   "outputs": [],
   "source": [
    "import boto3\n",
    "\n",
    "my_boto_session = boto3.Session(aws_access_key_id=access_key_id, aws_secret_access_key=secret_access_key,\n",
    "region_name=my_region)"
   ]
  },
  {
   "cell_type": "code",
   "execution_count": 18,
   "id": "c38172c5-97cb-4639-86c2-341c780c8c16",
   "metadata": {},
   "outputs": [],
   "source": [
    "from braket.aws.aws_session import AwsSession\n",
    "\n",
    "my_aws_session = AwsSession(boto_session=my_boto_session) # initialise an AwsSession"
   ]
  },
  {
   "cell_type": "code",
   "execution_count": 19,
   "id": "054da6a2",
   "metadata": {},
   "outputs": [],
   "source": [
    "#BraketBackend.available_devices(region='eu-west-2', aws_session=my_aws_session)"
   ]
  },
  {
   "cell_type": "code",
   "execution_count": 20,
   "id": "fc5ba8b1-df89-4615-a70e-7d33c161d481",
   "metadata": {},
   "outputs": [
    {
     "data": {
      "text/plain": [
       "[{'deviceArn': 'arn:aws:braket:::device/quantum-simulator/amazon/tn1',\n",
       "  'deviceName': 'TN1',\n",
       "  'deviceStatus': 'ONLINE',\n",
       "  'deviceType': 'SIMULATOR',\n",
       "  'providerName': 'Amazon Braket'},\n",
       " {'deviceArn': 'arn:aws:braket:::device/quantum-simulator/amazon/sv1',\n",
       "  'deviceName': 'SV1',\n",
       "  'deviceStatus': 'ONLINE',\n",
       "  'deviceType': 'SIMULATOR',\n",
       "  'providerName': 'Amazon Braket'},\n",
       " {'deviceArn': 'arn:aws:braket:::device/quantum-simulator/amazon/dm1',\n",
       "  'deviceName': 'dm1',\n",
       "  'deviceStatus': 'ONLINE',\n",
       "  'deviceType': 'SIMULATOR',\n",
       "  'providerName': 'Amazon Braket'},\n",
       " {'deviceArn': 'arn:aws:braket:eu-west-2::device/qpu/oqc/Lucy',\n",
       "  'deviceName': 'Lucy',\n",
       "  'deviceStatus': 'ONLINE',\n",
       "  'deviceType': 'QPU',\n",
       "  'providerName': 'Oxford'}]"
      ]
     },
     "execution_count": 20,
     "metadata": {},
     "output_type": "execute_result"
    }
   ],
   "source": [
    "my_aws_session.search_devices() # view available devices and simulators in my region"
   ]
  },
  {
   "cell_type": "markdown",
   "id": "3e4dfac3",
   "metadata": {},
   "source": [
    "Lets initialise the tensor network simulator TN1. This is a remote simulator that can simulate circuits of up to 50 qubits. This simulator uses tensor network contraction instead of the usual method of statevector simulation. This is especially effective for sparse quantum circuits. To read more about how TN1 works read the [documentation](https://docs.aws.amazon.com/braket/latest/developerguide/braket-devices.html#braket-simulator-tn1)."
   ]
  },
  {
   "cell_type": "code",
   "execution_count": 21,
   "id": "e0e2de03",
   "metadata": {},
   "outputs": [],
   "source": [
    "aws_tn_backend = BraketBackend(local=False,\n",
    "                                  device='tn1',\n",
    "                                   s3_bucket=my_s3_bucket,\n",
    "                                   s3_folder=my_s3_folder,\n",
    "                                   device_type='quantum-simulator',\n",
    "                                  provider='amazon',\n",
    "                                   aws_session=my_aws_session)"
   ]
  },
  {
   "cell_type": "code",
   "execution_count": 22,
   "id": "ba6f5b6b",
   "metadata": {},
   "outputs": [],
   "source": [
    "ghz_circ = build_ghz_circ(15)\n",
    "compiled_tn_circ = aws_tn_backend.get_compiled_circuit(ghz_circ)\n",
    "#handle = aws_tn_backend.process_circuit(compiled_tn_circ)\n",
    "#result = aws_tn_backend.get_result(handle)\n",
    "#print(result)"
   ]
  },
  {
   "cell_type": "markdown",
   "id": "e5efaa6a",
   "metadata": {},
   "source": [
    "Finally lets demonstrate accessing a real quantum processor with the ``BraketBackend``. We will use the Lucy device from Oxford Quantum Circuits. This is a superconducting device that can run circuits of up to eight qubits."
   ]
  },
  {
   "cell_type": "code",
   "execution_count": 23,
   "id": "d49dacd2-212d-41cc-a976-aa5fd95cfabd",
   "metadata": {},
   "outputs": [],
   "source": [
    "#initialise our BraketBackend for the OQC device\n",
    "aws_oqc_backend = BraketBackend(local=False,\n",
    "                                   region=my_region,\n",
    "                                  device='Lucy',\n",
    "                                   s3_bucket=my_s3_bucket,\n",
    "                                   s3_folder=my_s3_folder,\n",
    "                                   device_type='qpu',\n",
    "                                  provider='oqc',\n",
    "                                   aws_session=my_aws_session)"
   ]
  },
  {
   "cell_type": "code",
   "execution_count": 2,
   "id": "321458ce-ce91-448d-bc92-c40034850789",
   "metadata": {},
   "outputs": [
    {
     "ename": "NameError",
     "evalue": "name 'build_ghz_circ' is not defined",
     "output_type": "error",
     "traceback": [
      "\u001b[0;31m---------------------------------------------------------------------------\u001b[0m",
      "\u001b[0;31mNameError\u001b[0m                                 Traceback (most recent call last)",
      "\u001b[0;32m<ipython-input-2-a21da79281fa>\u001b[0m in \u001b[0;36m<module>\u001b[0;34m\u001b[0m\n\u001b[1;32m      1\u001b[0m \u001b[0;31m# define a circuit to compile to the Lucy device\u001b[0m\u001b[0;34m\u001b[0m\u001b[0;34m\u001b[0m\u001b[0;34m\u001b[0m\u001b[0m\n\u001b[0;32m----> 2\u001b[0;31m \u001b[0moqc_circ\u001b[0m \u001b[0;34m=\u001b[0m \u001b[0mbuild_ghz_circ\u001b[0m\u001b[0;34m(\u001b[0m\u001b[0;36m3\u001b[0m\u001b[0;34m)\u001b[0m\u001b[0;34m\u001b[0m\u001b[0;34m\u001b[0m\u001b[0m\n\u001b[0m\u001b[1;32m      3\u001b[0m \u001b[0moqc_circ\u001b[0m\u001b[0;34m.\u001b[0m\u001b[0mmeasure_all\u001b[0m\u001b[0;34m(\u001b[0m\u001b[0;34m)\u001b[0m\u001b[0;34m\u001b[0m\u001b[0;34m\u001b[0m\u001b[0m\n",
      "\u001b[0;31mNameError\u001b[0m: name 'build_ghz_circ' is not defined"
     ]
    }
   ],
   "source": [
    "# define a circuit to compile to the Lucy device\n",
    "oqc_circ = build_ghz_circ(3)\n",
    "oqc_circ.measure_all()"
   ]
  },
  {
   "cell_type": "code",
   "execution_count": 28,
   "id": "8a40d2c2-fc39-436f-b057-db7c4f56407d",
   "metadata": {},
   "outputs": [
    {
     "ename": "ValidationException",
     "evalue": "An error occurred (ValidationException) when calling the CreateQuantumTask operation: Caller doesn't have access to callum-cq-awsbucket or it doesn't exist.",
     "output_type": "error",
     "traceback": [
      "\u001b[0;31m---------------------------------------------------------------------------\u001b[0m",
      "\u001b[0;31mValidationException\u001b[0m                       Traceback (most recent call last)",
      "\u001b[0;32m<ipython-input-28-c5f15acadc0e>\u001b[0m in \u001b[0;36m<module>\u001b[0;34m\u001b[0m\n\u001b[1;32m      1\u001b[0m \u001b[0mcompiled_circ\u001b[0m \u001b[0;34m=\u001b[0m \u001b[0maws_oqc_backend\u001b[0m\u001b[0;34m.\u001b[0m\u001b[0mget_compiled_circuit\u001b[0m\u001b[0;34m(\u001b[0m\u001b[0moqc_circ\u001b[0m\u001b[0;34m)\u001b[0m\u001b[0;34m\u001b[0m\u001b[0;34m\u001b[0m\u001b[0m\n\u001b[0;32m----> 2\u001b[0;31m \u001b[0moqc_handle\u001b[0m \u001b[0;34m=\u001b[0m \u001b[0maws_oqc_backend\u001b[0m\u001b[0;34m.\u001b[0m\u001b[0mprocess_circuit\u001b[0m\u001b[0;34m(\u001b[0m\u001b[0mcompiled_circ\u001b[0m\u001b[0;34m,\u001b[0m \u001b[0mn_shots\u001b[0m\u001b[0;34m=\u001b[0m\u001b[0;36m500\u001b[0m\u001b[0;34m)\u001b[0m\u001b[0;34m\u001b[0m\u001b[0;34m\u001b[0m\u001b[0m\n\u001b[0m\u001b[1;32m      3\u001b[0m \u001b[0moqc_result\u001b[0m \u001b[0;34m=\u001b[0m \u001b[0maws_oqc_backend\u001b[0m\u001b[0;34m.\u001b[0m\u001b[0mget_result\u001b[0m\u001b[0;34m(\u001b[0m\u001b[0moqc_handle\u001b[0m\u001b[0;34m)\u001b[0m\u001b[0;34m\u001b[0m\u001b[0;34m\u001b[0m\u001b[0m\n",
      "\u001b[0;32m/opt/anaconda3/lib/python3.8/site-packages/pytket/backends/backend.py\u001b[0m in \u001b[0;36mprocess_circuit\u001b[0;34m(self, circuit, n_shots, valid_check, **kwargs)\u001b[0m\n\u001b[1;32m    246\u001b[0m         \"\"\"\n\u001b[1;32m    247\u001b[0m \u001b[0;34m\u001b[0m\u001b[0m\n\u001b[0;32m--> 248\u001b[0;31m         return self.process_circuits(\n\u001b[0m\u001b[1;32m    249\u001b[0m             \u001b[0;34m[\u001b[0m\u001b[0mcircuit\u001b[0m\u001b[0;34m]\u001b[0m\u001b[0;34m,\u001b[0m \u001b[0mn_shots\u001b[0m\u001b[0;34m=\u001b[0m\u001b[0mn_shots\u001b[0m\u001b[0;34m,\u001b[0m \u001b[0mvalid_check\u001b[0m\u001b[0;34m=\u001b[0m\u001b[0mvalid_check\u001b[0m\u001b[0;34m,\u001b[0m \u001b[0;34m**\u001b[0m\u001b[0mkwargs\u001b[0m\u001b[0;34m\u001b[0m\u001b[0;34m\u001b[0m\u001b[0m\n\u001b[1;32m    250\u001b[0m         )[0]\n",
      "\u001b[0;32m/opt/anaconda3/lib/python3.8/site-packages/pytket/extensions/braket/backends/braket.py\u001b[0m in \u001b[0;36mprocess_circuits\u001b[0;34m(self, circuits, n_shots, valid_check, **kwargs)\u001b[0m\n\u001b[1;32m    693\u001b[0m                 \u001b[0mtask\u001b[0m \u001b[0;34m=\u001b[0m \u001b[0;32mNone\u001b[0m\u001b[0;34m\u001b[0m\u001b[0;34m\u001b[0m\u001b[0m\n\u001b[1;32m    694\u001b[0m             \u001b[0;32melse\u001b[0m\u001b[0;34m:\u001b[0m\u001b[0;34m\u001b[0m\u001b[0;34m\u001b[0m\u001b[0m\n\u001b[0;32m--> 695\u001b[0;31m                 \u001b[0mtask\u001b[0m \u001b[0;34m=\u001b[0m \u001b[0mself\u001b[0m\u001b[0;34m.\u001b[0m\u001b[0m_run\u001b[0m\u001b[0;34m(\u001b[0m\u001b[0mbkcirc\u001b[0m\u001b[0;34m,\u001b[0m \u001b[0mn_shots\u001b[0m\u001b[0;34m=\u001b[0m\u001b[0mn_shots\u001b[0m\u001b[0;34m)\u001b[0m\u001b[0;34m\u001b[0m\u001b[0;34m\u001b[0m\u001b[0m\n\u001b[0m\u001b[1;32m    696\u001b[0m             \u001b[0;32mif\u001b[0m \u001b[0mself\u001b[0m\u001b[0;34m.\u001b[0m\u001b[0m_device_type\u001b[0m \u001b[0;34m==\u001b[0m \u001b[0m_DeviceType\u001b[0m\u001b[0;34m.\u001b[0m\u001b[0mLOCAL\u001b[0m\u001b[0;34m:\u001b[0m\u001b[0;34m\u001b[0m\u001b[0;34m\u001b[0m\u001b[0m\n\u001b[1;32m    697\u001b[0m                 \u001b[0;31m# Results are available now. Put them in the cache.\u001b[0m\u001b[0;34m\u001b[0m\u001b[0;34m\u001b[0m\u001b[0;34m\u001b[0m\u001b[0m\n",
      "\u001b[0;32m/opt/anaconda3/lib/python3.8/site-packages/pytket/extensions/braket/backends/braket.py\u001b[0m in \u001b[0;36m_run\u001b[0;34m(self, bkcirc, n_shots, **kwargs)\u001b[0m\n\u001b[1;32m    627\u001b[0m             \u001b[0;32mreturn\u001b[0m \u001b[0mself\u001b[0m\u001b[0;34m.\u001b[0m\u001b[0m_device\u001b[0m\u001b[0;34m.\u001b[0m\u001b[0mrun\u001b[0m\u001b[0;34m(\u001b[0m\u001b[0mbkcirc\u001b[0m\u001b[0;34m,\u001b[0m \u001b[0mshots\u001b[0m\u001b[0;34m=\u001b[0m\u001b[0mn_shots\u001b[0m\u001b[0;34m,\u001b[0m \u001b[0;34m**\u001b[0m\u001b[0mkwargs\u001b[0m\u001b[0;34m)\u001b[0m\u001b[0;34m\u001b[0m\u001b[0;34m\u001b[0m\u001b[0m\n\u001b[1;32m    628\u001b[0m         \u001b[0;32melse\u001b[0m\u001b[0;34m:\u001b[0m\u001b[0;34m\u001b[0m\u001b[0;34m\u001b[0m\u001b[0m\n\u001b[0;32m--> 629\u001b[0;31m             \u001b[0;32mreturn\u001b[0m \u001b[0mself\u001b[0m\u001b[0;34m.\u001b[0m\u001b[0m_device\u001b[0m\u001b[0;34m.\u001b[0m\u001b[0mrun\u001b[0m\u001b[0;34m(\u001b[0m\u001b[0mbkcirc\u001b[0m\u001b[0;34m,\u001b[0m \u001b[0mself\u001b[0m\u001b[0;34m.\u001b[0m\u001b[0m_s3_dest\u001b[0m\u001b[0;34m,\u001b[0m \u001b[0mshots\u001b[0m\u001b[0;34m=\u001b[0m\u001b[0mn_shots\u001b[0m\u001b[0;34m,\u001b[0m \u001b[0;34m**\u001b[0m\u001b[0mkwargs\u001b[0m\u001b[0;34m)\u001b[0m\u001b[0;34m\u001b[0m\u001b[0;34m\u001b[0m\u001b[0m\n\u001b[0m\u001b[1;32m    630\u001b[0m \u001b[0;34m\u001b[0m\u001b[0m\n\u001b[1;32m    631\u001b[0m     def _to_bkcirc(\n",
      "\u001b[0;32m/opt/anaconda3/lib/python3.8/site-packages/braket/aws/aws_device.py\u001b[0m in \u001b[0;36mrun\u001b[0;34m(self, task_specification, s3_destination_folder, shots, poll_timeout_seconds, poll_interval_seconds, *aws_quantum_task_args, **aws_quantum_task_kwargs)\u001b[0m\n\u001b[1;32m    144\u001b[0m             \u001b[0;31m`\u001b[0m\u001b[0mbraket\u001b[0m\u001b[0;34m.\u001b[0m\u001b[0maws\u001b[0m\u001b[0;34m.\u001b[0m\u001b[0maws_quantum_task\u001b[0m\u001b[0;34m.\u001b[0m\u001b[0mAwsQuantumTask\u001b[0m\u001b[0;34m.\u001b[0m\u001b[0mcreate\u001b[0m\u001b[0;34m(\u001b[0m\u001b[0;34m)\u001b[0m\u001b[0;31m`\u001b[0m\u001b[0;34m\u001b[0m\u001b[0;34m\u001b[0m\u001b[0m\n\u001b[1;32m    145\u001b[0m         \"\"\"\n\u001b[0;32m--> 146\u001b[0;31m         return AwsQuantumTask.create(\n\u001b[0m\u001b[1;32m    147\u001b[0m             \u001b[0mself\u001b[0m\u001b[0;34m.\u001b[0m\u001b[0m_aws_session\u001b[0m\u001b[0;34m,\u001b[0m\u001b[0;34m\u001b[0m\u001b[0;34m\u001b[0m\u001b[0m\n\u001b[1;32m    148\u001b[0m             \u001b[0mself\u001b[0m\u001b[0;34m.\u001b[0m\u001b[0m_arn\u001b[0m\u001b[0;34m,\u001b[0m\u001b[0;34m\u001b[0m\u001b[0;34m\u001b[0m\u001b[0m\n",
      "\u001b[0;32m/opt/anaconda3/lib/python3.8/site-packages/braket/aws/aws_quantum_task.py\u001b[0m in \u001b[0;36mcreate\u001b[0;34m(aws_session, device_arn, task_specification, s3_destination_folder, shots, device_parameters, disable_qubit_rewiring, tags, *args, **kwargs)\u001b[0m\n\u001b[1;32m    139\u001b[0m                 \u001b[0;34mf\"{task_specification.parameters}\"\u001b[0m\u001b[0;34m\u001b[0m\u001b[0;34m\u001b[0m\u001b[0m\n\u001b[1;32m    140\u001b[0m             )\n\u001b[0;32m--> 141\u001b[0;31m         return _create_internal(\n\u001b[0m\u001b[1;32m    142\u001b[0m             \u001b[0mtask_specification\u001b[0m\u001b[0;34m,\u001b[0m\u001b[0;34m\u001b[0m\u001b[0;34m\u001b[0m\u001b[0m\n\u001b[1;32m    143\u001b[0m             \u001b[0maws_session\u001b[0m\u001b[0;34m,\u001b[0m\u001b[0;34m\u001b[0m\u001b[0;34m\u001b[0m\u001b[0m\n",
      "\u001b[0;32m/opt/anaconda3/lib/python3.8/functools.py\u001b[0m in \u001b[0;36mwrapper\u001b[0;34m(*args, **kw)\u001b[0m\n\u001b[1;32m    873\u001b[0m                             '1 positional argument')\n\u001b[1;32m    874\u001b[0m \u001b[0;34m\u001b[0m\u001b[0m\n\u001b[0;32m--> 875\u001b[0;31m         \u001b[0;32mreturn\u001b[0m \u001b[0mdispatch\u001b[0m\u001b[0;34m(\u001b[0m\u001b[0margs\u001b[0m\u001b[0;34m[\u001b[0m\u001b[0;36m0\u001b[0m\u001b[0;34m]\u001b[0m\u001b[0;34m.\u001b[0m\u001b[0m__class__\u001b[0m\u001b[0;34m)\u001b[0m\u001b[0;34m(\u001b[0m\u001b[0;34m*\u001b[0m\u001b[0margs\u001b[0m\u001b[0;34m,\u001b[0m \u001b[0;34m**\u001b[0m\u001b[0mkw\u001b[0m\u001b[0;34m)\u001b[0m\u001b[0;34m\u001b[0m\u001b[0;34m\u001b[0m\u001b[0m\n\u001b[0m\u001b[1;32m    876\u001b[0m \u001b[0;34m\u001b[0m\u001b[0m\n\u001b[1;32m    877\u001b[0m     \u001b[0mfuncname\u001b[0m \u001b[0;34m=\u001b[0m \u001b[0mgetattr\u001b[0m\u001b[0;34m(\u001b[0m\u001b[0mfunc\u001b[0m\u001b[0;34m,\u001b[0m \u001b[0;34m'__name__'\u001b[0m\u001b[0;34m,\u001b[0m \u001b[0;34m'singledispatch function'\u001b[0m\u001b[0;34m)\u001b[0m\u001b[0;34m\u001b[0m\u001b[0;34m\u001b[0m\u001b[0m\n",
      "\u001b[0;32m/opt/anaconda3/lib/python3.8/site-packages/braket/aws/aws_quantum_task.py\u001b[0m in \u001b[0;36m_\u001b[0;34m(circuit, aws_session, create_task_kwargs, device_arn, device_parameters, disable_qubit_rewiring, *args, **kwargs)\u001b[0m\n\u001b[1;32m    464\u001b[0m         \u001b[0;34m{\u001b[0m\u001b[0;34m\"action\"\u001b[0m\u001b[0;34m:\u001b[0m \u001b[0mcircuit\u001b[0m\u001b[0;34m.\u001b[0m\u001b[0mto_ir\u001b[0m\u001b[0;34m(\u001b[0m\u001b[0;34m)\u001b[0m\u001b[0;34m.\u001b[0m\u001b[0mjson\u001b[0m\u001b[0;34m(\u001b[0m\u001b[0;34m)\u001b[0m\u001b[0;34m,\u001b[0m \u001b[0;34m\"deviceParameters\"\u001b[0m\u001b[0;34m:\u001b[0m \u001b[0mdevice_parameters\u001b[0m\u001b[0;34m.\u001b[0m\u001b[0mjson\u001b[0m\u001b[0;34m(\u001b[0m\u001b[0;34m)\u001b[0m\u001b[0;34m}\u001b[0m\u001b[0;34m\u001b[0m\u001b[0;34m\u001b[0m\u001b[0m\n\u001b[1;32m    465\u001b[0m     )\n\u001b[0;32m--> 466\u001b[0;31m     \u001b[0mtask_arn\u001b[0m \u001b[0;34m=\u001b[0m \u001b[0maws_session\u001b[0m\u001b[0;34m.\u001b[0m\u001b[0mcreate_quantum_task\u001b[0m\u001b[0;34m(\u001b[0m\u001b[0;34m**\u001b[0m\u001b[0mcreate_task_kwargs\u001b[0m\u001b[0;34m)\u001b[0m\u001b[0;34m\u001b[0m\u001b[0;34m\u001b[0m\u001b[0m\n\u001b[0m\u001b[1;32m    467\u001b[0m     \u001b[0;32mreturn\u001b[0m \u001b[0mAwsQuantumTask\u001b[0m\u001b[0;34m(\u001b[0m\u001b[0mtask_arn\u001b[0m\u001b[0;34m,\u001b[0m \u001b[0maws_session\u001b[0m\u001b[0;34m,\u001b[0m \u001b[0;34m*\u001b[0m\u001b[0margs\u001b[0m\u001b[0;34m,\u001b[0m \u001b[0;34m**\u001b[0m\u001b[0mkwargs\u001b[0m\u001b[0;34m)\u001b[0m\u001b[0;34m\u001b[0m\u001b[0;34m\u001b[0m\u001b[0m\n\u001b[1;32m    468\u001b[0m \u001b[0;34m\u001b[0m\u001b[0m\n",
      "\u001b[0;32m/opt/anaconda3/lib/python3.8/site-packages/braket/aws/aws_session.py\u001b[0m in \u001b[0;36mcreate_quantum_task\u001b[0;34m(self, **boto3_kwargs)\u001b[0m\n\u001b[1;32m    165\u001b[0m         \u001b[0;32mif\u001b[0m \u001b[0mjob_token\u001b[0m\u001b[0;34m:\u001b[0m\u001b[0;34m\u001b[0m\u001b[0;34m\u001b[0m\u001b[0m\n\u001b[1;32m    166\u001b[0m             \u001b[0mboto3_kwargs\u001b[0m\u001b[0;34m.\u001b[0m\u001b[0mupdate\u001b[0m\u001b[0;34m(\u001b[0m\u001b[0;34m{\u001b[0m\u001b[0;34m\"jobToken\"\u001b[0m\u001b[0;34m:\u001b[0m \u001b[0mjob_token\u001b[0m\u001b[0;34m}\u001b[0m\u001b[0;34m)\u001b[0m\u001b[0;34m\u001b[0m\u001b[0;34m\u001b[0m\u001b[0m\n\u001b[0;32m--> 167\u001b[0;31m         \u001b[0mresponse\u001b[0m \u001b[0;34m=\u001b[0m \u001b[0mself\u001b[0m\u001b[0;34m.\u001b[0m\u001b[0mbraket_client\u001b[0m\u001b[0;34m.\u001b[0m\u001b[0mcreate_quantum_task\u001b[0m\u001b[0;34m(\u001b[0m\u001b[0;34m**\u001b[0m\u001b[0mboto3_kwargs\u001b[0m\u001b[0;34m)\u001b[0m\u001b[0;34m\u001b[0m\u001b[0;34m\u001b[0m\u001b[0m\n\u001b[0m\u001b[1;32m    168\u001b[0m         \u001b[0;32mreturn\u001b[0m \u001b[0mresponse\u001b[0m\u001b[0;34m[\u001b[0m\u001b[0;34m\"quantumTaskArn\"\u001b[0m\u001b[0;34m]\u001b[0m\u001b[0;34m\u001b[0m\u001b[0;34m\u001b[0m\u001b[0m\n\u001b[1;32m    169\u001b[0m \u001b[0;34m\u001b[0m\u001b[0m\n",
      "\u001b[0;32m/opt/anaconda3/lib/python3.8/site-packages/botocore/client.py\u001b[0m in \u001b[0;36m_api_call\u001b[0;34m(self, *args, **kwargs)\u001b[0m\n\u001b[1;32m    506\u001b[0m                 )\n\u001b[1;32m    507\u001b[0m             \u001b[0;31m# The \"self\" in this scope is referring to the BaseClient.\u001b[0m\u001b[0;34m\u001b[0m\u001b[0;34m\u001b[0m\u001b[0;34m\u001b[0m\u001b[0m\n\u001b[0;32m--> 508\u001b[0;31m             \u001b[0;32mreturn\u001b[0m \u001b[0mself\u001b[0m\u001b[0;34m.\u001b[0m\u001b[0m_make_api_call\u001b[0m\u001b[0;34m(\u001b[0m\u001b[0moperation_name\u001b[0m\u001b[0;34m,\u001b[0m \u001b[0mkwargs\u001b[0m\u001b[0;34m)\u001b[0m\u001b[0;34m\u001b[0m\u001b[0;34m\u001b[0m\u001b[0m\n\u001b[0m\u001b[1;32m    509\u001b[0m \u001b[0;34m\u001b[0m\u001b[0m\n\u001b[1;32m    510\u001b[0m         \u001b[0m_api_call\u001b[0m\u001b[0;34m.\u001b[0m\u001b[0m__name__\u001b[0m \u001b[0;34m=\u001b[0m \u001b[0mstr\u001b[0m\u001b[0;34m(\u001b[0m\u001b[0mpy_operation_name\u001b[0m\u001b[0;34m)\u001b[0m\u001b[0;34m\u001b[0m\u001b[0;34m\u001b[0m\u001b[0m\n",
      "\u001b[0;32m/opt/anaconda3/lib/python3.8/site-packages/botocore/client.py\u001b[0m in \u001b[0;36m_make_api_call\u001b[0;34m(self, operation_name, api_params)\u001b[0m\n\u001b[1;32m    909\u001b[0m             \u001b[0merror_code\u001b[0m \u001b[0;34m=\u001b[0m \u001b[0mparsed_response\u001b[0m\u001b[0;34m.\u001b[0m\u001b[0mget\u001b[0m\u001b[0;34m(\u001b[0m\u001b[0;34m\"Error\"\u001b[0m\u001b[0;34m,\u001b[0m \u001b[0;34m{\u001b[0m\u001b[0;34m}\u001b[0m\u001b[0;34m)\u001b[0m\u001b[0;34m.\u001b[0m\u001b[0mget\u001b[0m\u001b[0;34m(\u001b[0m\u001b[0;34m\"Code\"\u001b[0m\u001b[0;34m)\u001b[0m\u001b[0;34m\u001b[0m\u001b[0;34m\u001b[0m\u001b[0m\n\u001b[1;32m    910\u001b[0m             \u001b[0merror_class\u001b[0m \u001b[0;34m=\u001b[0m \u001b[0mself\u001b[0m\u001b[0;34m.\u001b[0m\u001b[0mexceptions\u001b[0m\u001b[0;34m.\u001b[0m\u001b[0mfrom_code\u001b[0m\u001b[0;34m(\u001b[0m\u001b[0merror_code\u001b[0m\u001b[0;34m)\u001b[0m\u001b[0;34m\u001b[0m\u001b[0;34m\u001b[0m\u001b[0m\n\u001b[0;32m--> 911\u001b[0;31m             \u001b[0;32mraise\u001b[0m \u001b[0merror_class\u001b[0m\u001b[0;34m(\u001b[0m\u001b[0mparsed_response\u001b[0m\u001b[0;34m,\u001b[0m \u001b[0moperation_name\u001b[0m\u001b[0;34m)\u001b[0m\u001b[0;34m\u001b[0m\u001b[0;34m\u001b[0m\u001b[0m\n\u001b[0m\u001b[1;32m    912\u001b[0m         \u001b[0;32melse\u001b[0m\u001b[0;34m:\u001b[0m\u001b[0;34m\u001b[0m\u001b[0;34m\u001b[0m\u001b[0m\n\u001b[1;32m    913\u001b[0m             \u001b[0;32mreturn\u001b[0m \u001b[0mparsed_response\u001b[0m\u001b[0;34m\u001b[0m\u001b[0;34m\u001b[0m\u001b[0m\n",
      "\u001b[0;31mValidationException\u001b[0m: An error occurred (ValidationException) when calling the CreateQuantumTask operation: Caller doesn't have access to callum-cq-awsbucket or it doesn't exist."
     ]
    }
   ],
   "source": [
    "compiled_circ = aws_oqc_backend.get_compiled_circuit(oqc_circ)\n",
    "oqc_handle = aws_oqc_backend.process_circuit(compiled_circ, n_shots=500)\n",
    "oqc_result = aws_oqc_backend.get_result(oqc_handle) #Validation exception?"
   ]
  },
  {
   "cell_type": "code",
   "execution_count": null,
   "id": "775bdb56",
   "metadata": {},
   "outputs": [],
   "source": [
    "oqc_result"
   ]
  }
 ],
 "metadata": {
  "kernelspec": {
   "display_name": "Python 3 (ipykernel)",
   "language": "python",
   "name": "python3"
  },
  "language_info": {
   "codemirror_mode": {
    "name": "ipython",
    "version": 3
   },
   "file_extension": ".py",
   "mimetype": "text/x-python",
   "name": "python",
   "nbconvert_exporter": "python",
   "pygments_lexer": "ipython3",
   "version": "3.8.8"
  },
  "vscode": {
   "interpreter": {
    "hash": "40d3a090f54c6569ab1632332b64b2c03c39dcf918b08424e98f38b5ae0af88f"
   }
  }
 },
 "nbformat": 4,
 "nbformat_minor": 5
}
