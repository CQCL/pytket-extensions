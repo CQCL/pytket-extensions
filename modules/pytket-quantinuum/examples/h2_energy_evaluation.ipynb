{
 "nbformat": 4,
 "nbformat_minor": 2,
 "metadata": {
  "language_info": {
   "name": "python",
   "codemirror_mode": {
    "name": "ipython",
    "version": 3
   },
   "version": "3.7.4-final"
  },
  "orig_nbformat": 2,
  "file_extension": ".py",
  "mimetype": "text/x-python",
  "name": "python",
  "npconvert_exporter": "python",
  "pygments_lexer": "ipython3",
  "version": 3,
  "kernelspec": {
   "name": "python37464bit55d0573556174a5f94f2068aecc726d2",
   "display_name": "Python 3.7.4 64-bit"
  }
 },
 "cells": [
  {
   "cell_type": "markdown",
   "source": [
    "This notebook will replicate H2 (minimal basis, B-K) energy evaluation using pytket, pytket_qiskit and pytket_honeywell\n",
    "\n",
    "python~=3.7\n",
    "requirements:\n",
    "pytket==0.4.3\n",
    "pytket_qiskit>0.3.4\n",
    "pytket_honeywell==0.0.1\n",
    "\n",
    "sympy\n",
    "numpy"
   ],
   "metadata": {}
  },
  {
   "cell_type": "code",
   "execution_count": 1,
   "source": [
    "import os\n",
    "from functools import reduce\n",
    "import operator\n",
    "import copy\n",
    "from collections import Counter\n",
    "\n",
    "import sympy\n",
    "import numpy as np\n",
    "\n",
    "from pytket.circuit import Circuit\n",
    "from pytket.extensions.qiskit import AerBackend, IBMQBackend\n",
    "from pytket.extensions.honeywell import HoneywellBackend\n",
    "from pytket.circuit import PauliExpBox, fresh_symbol\n",
    "from pytket.pauli import Pauli\n",
    "from pytket.utils.measurements import append_pauli_measurement\n",
    "from pytket.utils import expectation_from_counts\n",
    "from pytket.passes import DecomposeBoxes\n",
    "\n",
    "\n",
    "from h2_hamiltonians import bond_length_hams\n"
   ],
   "outputs": [],
   "metadata": {}
  },
  {
   "cell_type": "markdown",
   "source": [
    "Generate ansatz circuit using pytket using known operators"
   ],
   "metadata": {}
  },
  {
   "cell_type": "code",
   "execution_count": 2,
   "source": [
    "ansatz = Circuit(4,4)\n",
    "param = fresh_symbol(\"t\")\n",
    "coeff = -2*param/sympy.pi\n",
    "box = PauliExpBox((Pauli.Y, Pauli.Z, Pauli.X, Pauli.Z), coeff)\n",
    "ansatz.X(0)\n",
    "ansatz.add_pauliexpbox(box, ansatz.qubits)\n",
    "DecomposeBoxes().apply(ansatz)\n"
   ],
   "outputs": [
    {
     "output_type": "execute_result",
     "data": {
      "text/plain": [
       "True"
      ]
     },
     "metadata": {},
     "execution_count": 2
    }
   ],
   "metadata": {}
  },
  {
   "cell_type": "markdown",
   "source": [
    "Set up hamiltonian processing code"
   ],
   "metadata": {}
  },
  {
   "cell_type": "code",
   "execution_count": 3,
   "source": [
    "contracted_measurement_bases = ('Z', 'X', 'Y')\n",
    "\n",
    "def get_energy_from_counts(coeff_shots): \n",
    "    return sum(coeff * expectation_from_counts(shots) for coeff, shots in coeff_shots)\n",
    "\n",
    "def operator_only_counts(counts, operator_qubs):\n",
    "    filterstate = lambda s: tuple(np.array(s)[list(operator_qubs)])\n",
    "    filtereredcounters = (Counter({filterstate(state):count}) for state, count in counts.items())\n",
    "    return reduce(operator.add, filtereredcounters)\n",
    "\n",
    "def submit_hamiltonian(state_circ, measurementops, n_shots, backend, base_name='ansatz'):\n",
    "\n",
    "    circuits = []\n",
    "    circuit_names = []\n",
    "    for entry, basis in zip(measurementops,contracted_measurement_bases):\n",
    "        meas_circ = state_circ.copy()\n",
    "        append_pauli_measurement(entry, meas_circ)\n",
    "        meas_circ = backend.get_compiled_circuit(meas_circ)\n",
    "        circuit_names += [f'{base_name}_{basis}']\n",
    "        circuits.append(meas_circ)\n",
    "\n",
    "    print(circuit_names)\n",
    "    return backend.process_circuits(circuits, n_shots=n_shots)\n",
    "\n",
    "\n",
    "def calculate_hamiltonian(measured_counts, hamiltonian):\n",
    "    hamcopy = copy.copy(hamiltonian)\n",
    "    constant_coeff = hamcopy.pop(tuple())\n",
    "    hamoptups, coeff_list = zip(*hamcopy.items())\n",
    "    converted_shot_list = []\n",
    "    \n",
    "    measurement_mapper = lambda opdict: opdict[0] if 0 in opdict else 'Z'\n",
    "    \n",
    "    hamop2measop = {tp: measurement_mapper(dict(tp)) for tp in hamoptups}\n",
    "\n",
    "    meascounts_map = dict(zip(contracted_measurement_bases, measured_counts))\n",
    "\n",
    "    for (optup, coeff) in zip(hamoptups, coeff_list):\n",
    "        op_qubs, _ = zip(*optup)\n",
    "        selected_meas_counts = meascounts_map[hamop2measop[optup]]\n",
    "        converted_shot_list.append(operator_only_counts(selected_meas_counts, op_qubs))\n",
    "\n",
    "    return get_energy_from_counts (zip(coeff_list, converted_shot_list)) + constant_coeff"
   ],
   "outputs": [],
   "metadata": {}
  },
  {
   "cell_type": "markdown",
   "source": [
    "Set up minimal measurement bases required to measure whole hamiltonian"
   ],
   "metadata": {}
  },
  {
   "cell_type": "code",
   "execution_count": 4,
   "source": [
    "measurement_ops = [((0, 'Z'), (1, 'Z'), (2, 'Z'), (3, 'Z')),\n",
    "((0, 'X'), (1, 'Z'), (2, 'X'), (3, 'Z')), ((0, 'Y'), (1, 'Z'), (2, 'Y'), (3, 'Z'))]"
   ],
   "outputs": [],
   "metadata": {}
  },
  {
   "cell_type": "markdown",
   "source": [
    "Set up honeywell API key and machine name"
   ],
   "metadata": {}
  },
  {
   "cell_type": "code",
   "execution_count": 5,
   "source": [
    "hwell_apikey = '<apikey>'\n",
    "hwell_machine = \"HQS-LT-1.0-APIVAL\""
   ],
   "outputs": [],
   "metadata": {}
  },
  {
   "cell_type": "code",
   "execution_count": 7,
   "source": [
    "bond_length = 0.735\n",
    "popt = bond_length_hams[bond_length][\"optimal_parameter\"]\n",
    "hamopt = bond_length_hams[bond_length][\"hamiltonian\"] \n",
    "\n",
    "aerbackend = AerBackend()\n",
    "backend = HoneywellBackend(hwell_apikey, device_name=hwell_machine, label='h2_exp')\n",
    "# backend = aerbackend\n",
    "backend = IBMQBackend('ibmq_burlington', hub='ibmq')\n",
    "state_circuit = ansatz.copy()\n",
    "state_circuit.symbol_substitution({param:popt})\n",
    "\n",
    "sub_jobs = submit_hamiltonian(state_circuit, measurement_ops, 100, backend)\n",
    "print(sub_jobs)\n",
    "results = [backend.run_circuit(job).get_counts() for job in sub_jobs]\n",
    "\n",
    "calculate_hamiltonian(results, hamopt)"
   ],
   "outputs": [
    {
     "output_type": "stream",
     "name": "stdout",
     "text": [
      "['ansatz_Z', 'ansatz_X', 'ansatz_Y']\n",
      "[('5e554bacd8204b0018fd539f', 0), ('5e554bacd8204b0018fd539f', 1), ('5e554bacd8204b0018fd539f', 2)]\n",
      "Job Status: job has successfully run\n",
      "Job Status: job has successfully run\n",
      "Job Status: job has successfully run\n"
     ]
    },
    {
     "output_type": "execute_result",
     "data": {
      "text/plain": [
       "-0.6357045412185943"
      ]
     },
     "metadata": {},
     "execution_count": 7
    }
   ],
   "metadata": {}
  },
  {
   "cell_type": "code",
   "execution_count": null,
   "source": [
    "\n",
    "retrieve_ids = ['', '', '']\n",
    "retrieved_results = [backend.run_circuit(JobHandle(id)).get_counts() for id in retrieve_ids]\n",
    "\n",
    "calculate_hamiltonian(retrieved_results, hamopt)"
   ],
   "outputs": [],
   "metadata": {}
  }
 ]
}
